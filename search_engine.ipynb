{
 "cells": [
  {
   "cell_type": "code",
   "execution_count": 103,
   "id": "acef2b68",
   "metadata": {},
   "outputs": [
    {
     "data": {
      "application/vnd.jupyter.widget-view+json": {
       "model_id": "a667daf251f34260a79ba2d46f8cb129",
       "version_major": 2,
       "version_minor": 0
      },
      "text/plain": [
       "Executing:   0%|          | 0/3 [00:00<?, ?cell/s]"
      ]
     },
     "metadata": {},
     "output_type": "display_data"
    }
   ],
   "source": [
    "import os\n",
    "import papermill as pm\n",
    "import faiss\n",
    "import pickle\n",
    "import numpy as np\n",
    "from sentence_transformers import SentenceTransformer\n",
    "from pptx import Presentation\n",
    "\n",
    "\n",
    "# Функция для проверки обновлений данных и перестройки индекса\n",
    "def check_updates():\n",
    "    # Путь к новому JSON с презентациями\n",
    "    data_time = os.path.getmtime('data/notes.json')  # Обновленный файл с данными\n",
    "    index_time = os.path.getmtime('index/faiss.index') if os.path.exists('index/faiss.index') else 0\n",
    "    \n",
    "    #if data_time > index_time:\n",
    "     #  print(\"Обнаружены новые данные, перестраиваю индекс...\")\n",
    "        # Запускаем build_index.ipynb, чтобы создать новый индекс\n",
    "    pm.execute_notebook('bulild_index.ipynb', 'bulild_index_output.ipynb')\n",
    "   # else:\n",
    "    #    print('Обновлений нет')\n",
    "\n",
    "\n",
    "# Проверяем наличие обновлений при каждом запуске\n",
    "check_updates()\n",
    "\n",
    "\n",
    "# Загружаем модель для преобразования текста в эмбеддинги\n",
    "model = SentenceTransformer('all-MiniLM-L6-v2')\n",
    "\n",
    "# Загружаем индекс FAISS и метаданные (JSON о презентациях)\n",
    "index = faiss.read_index(\"index/faiss.index\")\n",
    "with open(\"index/meta.pkl\", \"rb\") as f:\n",
    "    documents = pickle.load(f)\n",
    "\n",
    "\n",
    "# Функция для извлечения текста из презентаций (файлов .pptx)\n",
    "def extract_text_from_pptx(file_name):\n",
    "    presentation = Presentation(f\"data/files/{file_name}\")\n",
    "    text = []\n",
    "    for slide in presentation.slides:\n",
    "        for shape in slide.shapes:\n",
    "            if hasattr(shape, \"text\"):\n",
    "                text.append(shape.text)\n",
    "    return \"\\n\".join(text)"
   ]
  },
  {
   "cell_type": "code",
   "execution_count": 106,
   "id": "413869c3",
   "metadata": {},
   "outputs": [
    {
     "data": {
      "text/plain": [
       "{'id': 'pres1',\n",
       " 'title': 'Производные и их применение',\n",
       " 'subject': 'Математический анализ',\n",
       " 'teacher': 'Алексей Смирнов',\n",
       " 'file_name': 'derivatives_intro.pptx',\n",
       " 'text': \"Производные и их применение Введение в производные, правила дифференцирования и графический анализ Математический анализ Алексей Смирнов Производные и их применение\\nДанная презентация познакомит вас с увлекательным миром производных, начиная с основных понятий и определений. Мы рассмотрим геометрический и физический смысл производной, изучим правила и формулы дифференцирования. Особое внимание будет уделено применению производных в решении практических задач, а также их роли в современной науке и технологиях. Приготовьтесь к погружению в математический анализ!\\nГеометрический и физический смысл производной\\nГеометрический смысл\\nПроизводная функции в точке x₀ представляет собой угловой коэффициент касательной к графику функции в этой точке. Это позволяет анализировать поведение функции, определять точки экстремума и интервалы возрастания и убывания.\\nКасательная к графику\\nУгловой коэффициент\\nАнализ поведения функции\\nФизический смысл\\nПроизводная функции, описывающей движение объекта, представляет собой мгновенную скорость этого объекта в данный момент времени. Это позволяет изучать динамику движения и определять ускорение.\\nМгновенная скорость\\nДинамика движения\\nОпределение ускорения\\nПравила и формулы дифференцирования\\n\\n1\\nПроизводная константы\\nПроизводная константы равна нулю: (c)' = 0.\\n\\n2\\nПроизводная степенной функции\\nПроизводная x в степени n равна n * x в степени n-1: (xⁿ)' = n * xⁿ⁻¹.\\n\\n3\\nПроизводная суммы и разности\\nПроизводная суммы или разности функций равна сумме или разности производных: (u ± v)' = u' ± v'.\\n\\n4\\nПроизводная произведения\\nПроизводная произведения функций: (u * v)' = u' * v + u * v'.\\nПрименение производных в решении практических задач\\nОптимизация\\nНахождение оптимальных значений для максимизации прибыли или минимизации затрат.\\nАнализ\\nИсследование скорости изменения различных процессов, например, роста населения или распространения болезней.\\nИнженерия\\nПроектирование оптимальных конструкций и систем, учитывающих различные факторы.\\nПроизводные находят широкое применение в решении практических задач, от оптимизации бизнес-процессов до проектирования сложных инженерных сооружений. Они позволяют анализировать изменения, предсказывать результаты и принимать обоснованные решения в различных областях деятельности.\\nПроизводные в современной науке и технологиях\\n\\n\\n\\n1\\nФизика\\nРасчет скорости, ускорения, траектории движения частиц.\\n\\n\\n2\\nЭкономика\\nАнализ рыночных тенденций, прогнозирование экономических показателей.\\n\\n\\n3\\nИнформатика\\nРазработка алгоритмов машинного обучения, оптимизация работы нейронных сетей.\\n\\n\\n4\\nБиология\\nМоделирование роста популяций, изучение динамики распространения инфекций.\\nВ современной науке и технологиях производные являются мощным инструментом для анализа и моделирования различных процессов. Они используются в физике, экономике, информатике, биологии и многих других областях, позволяя решать сложные задачи и делать важные открытия.\"}"
      ]
     },
     "execution_count": 106,
     "metadata": {},
     "output_type": "execute_result"
    }
   ],
   "source": [
    "documents[0]"
   ]
  },
  {
   "cell_type": "code",
   "execution_count": 115,
   "id": "5b6208da",
   "metadata": {},
   "outputs": [],
   "source": [
    "# Функция для поиска по индексу\n",
    "def search(query, top_k=3):\n",
    "    query_embedding = model.encode([query])  # Преобразуем запрос в эмбеддинг\n",
    "    \n",
    "    # Выполняем поиск по индексу\n",
    "    D, I = index.search(np.array(query_embedding), top_k)\n",
    "    \n",
    "    results = []\n",
    "    for idx, distance in zip(I[0], D[0]):  # Итерируем через индексы и соответствующие расстояния\n",
    "        similarity = (1 - distance) * 100  # Вычисляем схожесть как процент\n",
    "        results.append({\n",
    "            \"index\": idx,\n",
    "            \"distance\": distance,\n",
    "            \"similarity\": similarity,  # Добавляем процент схожести\n",
    "            \"document\": documents[idx]\n",
    "        })\n",
    "    \n",
    "    # Сортируем результаты по расстоянию (от меньшего к большему), то есть по схожести\n",
    "    results.sort(key=lambda x: x[\"distance\"])  # Чем меньше distance, тем выше схожесть\n",
    "    \n",
    "    # Возвращаем отсортированные документы с полем 'similarity'\n",
    "    return results  # Возвращаем весь список, а не только документы\n",
    "\n",
    "# Функция для форматирования ответа (с использованием данных о преподавателе, предмете и презентациях)\n",
    "def format_answer(results):\n",
    "    formatted_results = []\n",
    "    for result in results:\n",
    "        # Получаем данные из документа\n",
    "        subject = result[\"document\"][\"subject\"]\n",
    "        title = result[\"document\"][\"title\"]\n",
    "        teacher_name = result[\"document\"][\"teacher\"]\n",
    "        file_name = result[\"document\"][\"file_name\"]\n",
    "        similarity = result[\"similarity\"]  # Процент схожести\n",
    "        \n",
    "        # Получаем текст презентации (если нужно)\n",
    "        pptx_text = extract_text_from_pptx(f\"{file_name}\")\n",
    "        \n",
    "        formatted_results.append({\n",
    "            \"subject\": subject,\n",
    "            \"title\": title,\n",
    "            \"teacher\": teacher_name,\n",
    "            \"file_name\": file_name,\n",
    "            \"pptx_text\": pptx_text,  # Можно добавить текст конспекта здесь\n",
    "            \"similarity\": similarity  # Добавляем процент схожести\n",
    "        })\n",
    "    return formatted_results\n",
    "\n",
    "# Пример запроса (вопрос по теории)\n",
    "def prompt(query):\n",
    "    # Ищем по запросу\n",
    "    results = search(query)\n",
    "    # Форматируем ответ\n",
    "    formatted_results = format_answer(results)\n",
    "    for result in formatted_results:\n",
    "        print(f\"Предмет: {result['subject']}, Тема: {result['title']}\")\n",
    "        print(f\"Преподаватель: {result['teacher']}\")\n",
    "        #print(f\"Процент схожести: {result['similarity']:.2f}%\")  # Выводим процент схожести\n",
    "        print(\"-\" * 80)"
   ]
  },
  {
   "cell_type": "code",
   "execution_count": 117,
   "id": "0d165504",
   "metadata": {},
   "outputs": [
    {
     "name": "stdout",
     "output_type": "stream",
     "text": [
      "Предмет: Физика: Механика, Тема: Энергия и работа\n",
      "Преподаватель: Дмитрий Федоров\n",
      "--------------------------------------------------------------------------------\n",
      "Предмет: Программирование на Python, Тема: Работа со списками в Python\n",
      "Преподаватель: Ольга Кузнецова\n",
      "--------------------------------------------------------------------------------\n",
      "Предмет: Физика: Механика, Тема: Законы Ньютона\n",
      "Преподаватель: Дмитрий Федоров\n",
      "--------------------------------------------------------------------------------\n"
     ]
    }
   ],
   "source": [
    "prompt(\"Что такое энергия и как она связана с работой?\")"
   ]
  },
  {
   "cell_type": "code",
   "execution_count": 123,
   "id": "50b99d2a",
   "metadata": {},
   "outputs": [],
   "source": [
    "def prompt(query, i):\n",
    "    # Ищем по запросу\n",
    "    results = search(query)\n",
    "    #print(results)\n",
    "    # Форматируем ответ\n",
    "    formatted_results = format_answer(results)\n",
    "    #for result in formatted_results:\n",
    "    \n",
    "    result = formatted_results[i]\n",
    "    \n",
    "    return f\"Предмет: {result['subject']}, Тема: {result['title']}, Преподаватель: {result['teacher']}\""
   ]
  },
  {
   "cell_type": "code",
   "execution_count": 124,
   "id": "1ea9d035",
   "metadata": {},
   "outputs": [
    {
     "data": {
      "text/plain": [
       "'Предмет: Программирование на Python, Тема: Работа со списками в Python, Преподаватель: Ольга Кузнецова'"
      ]
     },
     "execution_count": 124,
     "metadata": {},
     "output_type": "execute_result"
    }
   ],
   "source": [
    "prompt(\"Что такое энергия и как она связана с работой?\", 1)"
   ]
  },
  {
   "cell_type": "code",
   "execution_count": null,
   "id": "fde9236b",
   "metadata": {},
   "outputs": [],
   "source": []
  }
 ],
 "metadata": {
  "kernelspec": {
   "display_name": "Python 3 (ipykernel)",
   "language": "python",
   "name": "python3"
  },
  "language_info": {
   "codemirror_mode": {
    "name": "ipython",
    "version": 3
   },
   "file_extension": ".py",
   "mimetype": "text/x-python",
   "name": "python",
   "nbconvert_exporter": "python",
   "pygments_lexer": "ipython3",
   "version": "3.11.3"
  }
 },
 "nbformat": 4,
 "nbformat_minor": 5
}
