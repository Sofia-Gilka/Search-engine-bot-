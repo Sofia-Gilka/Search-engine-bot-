{
 "cells": [
  {
   "cell_type": "code",
   "execution_count": 50,
   "id": "928fd0a1",
   "metadata": {},
   "outputs": [],
   "source": [
    "import json\n",
    "from pptx import Presentation\n",
    "\n",
    "# Загружаем данные\n",
    "with open('data/notes.json') as file:\n",
    "    data = json.load(file)\n",
    "\n",
    "# Создаем словари для пользователей и предметов\n",
    "users = {u['id']: u for u in data['users']}\n",
    "subjects = {s['id']: s for s in data['subjects']}\n",
    "\n",
    "# Функция для извлечения текста из презентации\n",
    "def extract_text_from_pptx(filename):\n",
    "    prs = Presentation(f\"data/files/{filename}\")\n",
    "    text = []\n",
    "    for slide in prs.slides:\n",
    "        for shape in slide.shapes:\n",
    "            if hasattr(shape, \"text\"):\n",
    "                text.append(shape.text)\n",
    "    return \"\\n\".join(text)\n",
    "\n",
    "# Список документов\n",
    "documents = []\n",
    "\n",
    "# Процессируем презентации\n",
    "for pres in data[\"presentations\"]:\n",
    "    subject = subjects.get(pres[\"subjectId\"], {})\n",
    "    teacher = users.get(pres[\"authorId\"], {})\n",
    "    \n",
    "    # Извлекаем текст файла\n",
    "    file_text = extract_text_from_pptx(pres[\"file\"][\"name\"])\n",
    "    \n",
    "    # Объединяем все важные поля\n",
    "    full_text = f\"{pres['title']} {pres['description']} {subject.get('name', '')} {teacher.get('name', '')} {file_text}\"\n",
    "    \n",
    "    # Создаем запись для документа с нужными данными\n",
    "    documents.append({\n",
    "        \"id\": pres[\"id\"],\n",
    "        \"title\": pres[\"title\"],  # Название презентации\n",
    "        \"subject\": subject.get(\"name\", \"\"),  # Название предмета\n",
    "        \"teacher\": teacher.get(\"name\", \"\"),  # Имя преподавателя\n",
    "        \"file_name\": pres[\"file\"][\"name\"],  # Название файла\n",
    "        \"text\": full_text  })"
   ]
  },
  {
   "cell_type": "code",
   "execution_count": 51,
   "id": "4533f79f",
   "metadata": {},
   "outputs": [
    {
     "data": {
      "application/vnd.jupyter.widget-view+json": {
       "model_id": "3533aa3e7dd245bb8cf40139e3073d82",
       "version_major": 2,
       "version_minor": 0
      },
      "text/plain": [
       "Batches:   0%|          | 0/1 [00:00<?, ?it/s]"
      ]
     },
     "metadata": {},
     "output_type": "display_data"
    }
   ],
   "source": [
    "from sentence_transformers import SentenceTransformer\n",
    "import numpy as np\n",
    "import faiss\n",
    "import pickle\n",
    "\n",
    "model = SentenceTransformer('all-MiniLM-L6-v2')\n",
    "\n",
    "texts = [doc[\"text\"] for doc in documents]\n",
    "embeddings = model.encode(texts, show_progress_bar=True)\n",
    "\n",
    "# FAISS индекс\n",
    "index = faiss.IndexFlatL2(embeddings[0].shape[0])\n",
    "index.add(np.array(embeddings))\n",
    "\n",
    "# Сохраняем\n",
    "faiss.write_index(index, \"index/faiss.index\")\n",
    "with open(\"index/meta.pkl\", \"wb\") as f:\n",
    "    pickle.dump(documents, f)"
   ]
  },
  {
   "cell_type": "code",
   "execution_count": null,
   "id": "3fe4fcf6",
   "metadata": {},
   "outputs": [],
   "source": []
  }
 ],
 "metadata": {
  "kernelspec": {
   "display_name": "Python 3 (ipykernel)",
   "language": "python",
   "name": "python3"
  },
  "language_info": {
   "codemirror_mode": {
    "name": "ipython",
    "version": 3
   },
   "file_extension": ".py",
   "mimetype": "text/x-python",
   "name": "python",
   "nbconvert_exporter": "python",
   "pygments_lexer": "ipython3",
   "version": "3.11.3"
  }
 },
 "nbformat": 4,
 "nbformat_minor": 5
}
